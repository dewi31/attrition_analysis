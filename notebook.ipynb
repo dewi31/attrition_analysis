{
    "cells": [
        {
            "cell_type": "markdown",
            "metadata": {},
            "source": [
                "# Proyek Akhir: Menyelesaikan Permasalahan Perusahaan Jaya Jaya Maju"
            ]
        },
        {
            "cell_type": "markdown",
            "metadata": {},
            "source": [
                "- Nama: Dewi Wahidatul Karimah\n",
                "- Email: dewikarimah780@mail.com\n",
                "- Id Dicoding: dewi_karimah"
            ]
        },
        {
            "cell_type": "markdown",
            "metadata": {},
            "source": [
                "## Persiapan"
            ]
        },
        {
            "cell_type": "markdown",
            "metadata": {},
            "source": [
                "### Menyiapkan library yang dibutuhkan"
            ]
        },
        {
            "cell_type": "code",
            "execution_count": 1,
            "metadata": {},
            "outputs": [],
            "source": [
                "import pandas as pd\n",
                "import matplotlib.pyplot as plt\n",
                "import seaborn as sns\n",
                "\n",
                "from sklearn.preprocessing import LabelEncoder\n",
                "from sklearn.preprocessing import StandardScaler\n",
                "from sklearn.model_selection import train_test_split\n",
                "from sklearn.ensemble import RandomForestClassifier\n",
                "from collections import Counter\n",
                "from imblearn.over_sampling import SMOTE\n",
                "\n",
                "from sklearn.metrics import confusion_matrix\n",
                "from mlxtend.plotting import plot_confusion_matrix"
            ]
        },
        {
            "cell_type": "markdown",
            "metadata": {},
            "source": [
                "### Menyiapkan data yang akan digunakan"
            ]
        },
        {
            "cell_type": "markdown",
            "metadata": {},
            "source": [
                "## Data Understanding"
            ]
        },
        {
            "cell_type": "code",
            "execution_count": 2,
            "metadata": {},
            "outputs": [
                {
                    "data": {
                        "text/html": [
                            "<div>\n",
                            "<style scoped>\n",
                            "    .dataframe tbody tr th:only-of-type {\n",
                            "        vertical-align: middle;\n",
                            "    }\n",
                            "\n",
                            "    .dataframe tbody tr th {\n",
                            "        vertical-align: top;\n",
                            "    }\n",
                            "\n",
                            "    .dataframe thead th {\n",
                            "        text-align: right;\n",
                            "    }\n",
                            "</style>\n",
                            "<table border=\"1\" class=\"dataframe\">\n",
                            "  <thead>\n",
                            "    <tr style=\"text-align: right;\">\n",
                            "      <th></th>\n",
                            "      <th>EmployeeId</th>\n",
                            "      <th>Age</th>\n",
                            "      <th>Attrition</th>\n",
                            "      <th>BusinessTravel</th>\n",
                            "      <th>DailyRate</th>\n",
                            "      <th>Department</th>\n",
                            "      <th>DistanceFromHome</th>\n",
                            "      <th>Education</th>\n",
                            "      <th>EducationField</th>\n",
                            "      <th>EmployeeCount</th>\n",
                            "      <th>...</th>\n",
                            "      <th>RelationshipSatisfaction</th>\n",
                            "      <th>StandardHours</th>\n",
                            "      <th>StockOptionLevel</th>\n",
                            "      <th>TotalWorkingYears</th>\n",
                            "      <th>TrainingTimesLastYear</th>\n",
                            "      <th>WorkLifeBalance</th>\n",
                            "      <th>YearsAtCompany</th>\n",
                            "      <th>YearsInCurrentRole</th>\n",
                            "      <th>YearsSinceLastPromotion</th>\n",
                            "      <th>YearsWithCurrManager</th>\n",
                            "    </tr>\n",
                            "  </thead>\n",
                            "  <tbody>\n",
                            "    <tr>\n",
                            "      <th>0</th>\n",
                            "      <td>1</td>\n",
                            "      <td>38</td>\n",
                            "      <td>NaN</td>\n",
                            "      <td>Travel_Frequently</td>\n",
                            "      <td>1444</td>\n",
                            "      <td>Human Resources</td>\n",
                            "      <td>1</td>\n",
                            "      <td>4</td>\n",
                            "      <td>Other</td>\n",
                            "      <td>1</td>\n",
                            "      <td>...</td>\n",
                            "      <td>2</td>\n",
                            "      <td>80</td>\n",
                            "      <td>1</td>\n",
                            "      <td>7</td>\n",
                            "      <td>2</td>\n",
                            "      <td>3</td>\n",
                            "      <td>6</td>\n",
                            "      <td>2</td>\n",
                            "      <td>1</td>\n",
                            "      <td>2</td>\n",
                            "    </tr>\n",
                            "    <tr>\n",
                            "      <th>1</th>\n",
                            "      <td>2</td>\n",
                            "      <td>37</td>\n",
                            "      <td>1.0</td>\n",
                            "      <td>Travel_Rarely</td>\n",
                            "      <td>1141</td>\n",
                            "      <td>Research &amp; Development</td>\n",
                            "      <td>11</td>\n",
                            "      <td>2</td>\n",
                            "      <td>Medical</td>\n",
                            "      <td>1</td>\n",
                            "      <td>...</td>\n",
                            "      <td>1</td>\n",
                            "      <td>80</td>\n",
                            "      <td>0</td>\n",
                            "      <td>15</td>\n",
                            "      <td>2</td>\n",
                            "      <td>1</td>\n",
                            "      <td>1</td>\n",
                            "      <td>0</td>\n",
                            "      <td>0</td>\n",
                            "      <td>0</td>\n",
                            "    </tr>\n",
                            "    <tr>\n",
                            "      <th>2</th>\n",
                            "      <td>3</td>\n",
                            "      <td>51</td>\n",
                            "      <td>1.0</td>\n",
                            "      <td>Travel_Rarely</td>\n",
                            "      <td>1323</td>\n",
                            "      <td>Research &amp; Development</td>\n",
                            "      <td>4</td>\n",
                            "      <td>4</td>\n",
                            "      <td>Life Sciences</td>\n",
                            "      <td>1</td>\n",
                            "      <td>...</td>\n",
                            "      <td>3</td>\n",
                            "      <td>80</td>\n",
                            "      <td>3</td>\n",
                            "      <td>18</td>\n",
                            "      <td>2</td>\n",
                            "      <td>4</td>\n",
                            "      <td>10</td>\n",
                            "      <td>0</td>\n",
                            "      <td>2</td>\n",
                            "      <td>7</td>\n",
                            "    </tr>\n",
                            "    <tr>\n",
                            "      <th>3</th>\n",
                            "      <td>4</td>\n",
                            "      <td>42</td>\n",
                            "      <td>0.0</td>\n",
                            "      <td>Travel_Frequently</td>\n",
                            "      <td>555</td>\n",
                            "      <td>Sales</td>\n",
                            "      <td>26</td>\n",
                            "      <td>3</td>\n",
                            "      <td>Marketing</td>\n",
                            "      <td>1</td>\n",
                            "      <td>...</td>\n",
                            "      <td>4</td>\n",
                            "      <td>80</td>\n",
                            "      <td>1</td>\n",
                            "      <td>23</td>\n",
                            "      <td>2</td>\n",
                            "      <td>4</td>\n",
                            "      <td>20</td>\n",
                            "      <td>4</td>\n",
                            "      <td>4</td>\n",
                            "      <td>8</td>\n",
                            "    </tr>\n",
                            "    <tr>\n",
                            "      <th>4</th>\n",
                            "      <td>5</td>\n",
                            "      <td>40</td>\n",
                            "      <td>NaN</td>\n",
                            "      <td>Travel_Rarely</td>\n",
                            "      <td>1194</td>\n",
                            "      <td>Research &amp; Development</td>\n",
                            "      <td>2</td>\n",
                            "      <td>4</td>\n",
                            "      <td>Medical</td>\n",
                            "      <td>1</td>\n",
                            "      <td>...</td>\n",
                            "      <td>2</td>\n",
                            "      <td>80</td>\n",
                            "      <td>3</td>\n",
                            "      <td>20</td>\n",
                            "      <td>2</td>\n",
                            "      <td>3</td>\n",
                            "      <td>5</td>\n",
                            "      <td>3</td>\n",
                            "      <td>0</td>\n",
                            "      <td>2</td>\n",
                            "    </tr>\n",
                            "  </tbody>\n",
                            "</table>\n",
                            "<p>5 rows × 35 columns</p>\n",
                            "</div>"
                        ],
                        "text/plain": [
                            "   EmployeeId  Age  Attrition     BusinessTravel  DailyRate  \\\n",
                            "0           1   38        NaN  Travel_Frequently       1444   \n",
                            "1           2   37        1.0      Travel_Rarely       1141   \n",
                            "2           3   51        1.0      Travel_Rarely       1323   \n",
                            "3           4   42        0.0  Travel_Frequently        555   \n",
                            "4           5   40        NaN      Travel_Rarely       1194   \n",
                            "\n",
                            "               Department  DistanceFromHome  Education EducationField  \\\n",
                            "0         Human Resources                 1          4          Other   \n",
                            "1  Research & Development                11          2        Medical   \n",
                            "2  Research & Development                 4          4  Life Sciences   \n",
                            "3                   Sales                26          3      Marketing   \n",
                            "4  Research & Development                 2          4        Medical   \n",
                            "\n",
                            "   EmployeeCount  ...  RelationshipSatisfaction StandardHours  \\\n",
                            "0              1  ...                         2            80   \n",
                            "1              1  ...                         1            80   \n",
                            "2              1  ...                         3            80   \n",
                            "3              1  ...                         4            80   \n",
                            "4              1  ...                         2            80   \n",
                            "\n",
                            "   StockOptionLevel  TotalWorkingYears  TrainingTimesLastYear WorkLifeBalance  \\\n",
                            "0                 1                  7                      2               3   \n",
                            "1                 0                 15                      2               1   \n",
                            "2                 3                 18                      2               4   \n",
                            "3                 1                 23                      2               4   \n",
                            "4                 3                 20                      2               3   \n",
                            "\n",
                            "   YearsAtCompany YearsInCurrentRole  YearsSinceLastPromotion  \\\n",
                            "0               6                  2                        1   \n",
                            "1               1                  0                        0   \n",
                            "2              10                  0                        2   \n",
                            "3              20                  4                        4   \n",
                            "4               5                  3                        0   \n",
                            "\n",
                            "   YearsWithCurrManager  \n",
                            "0                     2  \n",
                            "1                     0  \n",
                            "2                     7  \n",
                            "3                     8  \n",
                            "4                     2  \n",
                            "\n",
                            "[5 rows x 35 columns]"
                        ]
                    },
                    "execution_count": 2,
                    "metadata": {},
                    "output_type": "execute_result"
                }
            ],
            "source": [
                "# data loading\n",
                "df = pd.read_csv('employee_data.csv')\n",
                "df.head()"
            ]
        },
        {
            "cell_type": "code",
            "execution_count": 3,
            "metadata": {},
            "outputs": [
                {
                    "name": "stdout",
                    "output_type": "stream",
                    "text": [
                        "<class 'pandas.core.frame.DataFrame'>\n",
                        "RangeIndex: 1470 entries, 0 to 1469\n",
                        "Data columns (total 35 columns):\n",
                        " #   Column                    Non-Null Count  Dtype  \n",
                        "---  ------                    --------------  -----  \n",
                        " 0   EmployeeId                1470 non-null   int64  \n",
                        " 1   Age                       1470 non-null   int64  \n",
                        " 2   Attrition                 1058 non-null   float64\n",
                        " 3   BusinessTravel            1470 non-null   object \n",
                        " 4   DailyRate                 1470 non-null   int64  \n",
                        " 5   Department                1470 non-null   object \n",
                        " 6   DistanceFromHome          1470 non-null   int64  \n",
                        " 7   Education                 1470 non-null   int64  \n",
                        " 8   EducationField            1470 non-null   object \n",
                        " 9   EmployeeCount             1470 non-null   int64  \n",
                        " 10  EnvironmentSatisfaction   1470 non-null   int64  \n",
                        " 11  Gender                    1470 non-null   object \n",
                        " 12  HourlyRate                1470 non-null   int64  \n",
                        " 13  JobInvolvement            1470 non-null   int64  \n",
                        " 14  JobLevel                  1470 non-null   int64  \n",
                        " 15  JobRole                   1470 non-null   object \n",
                        " 16  JobSatisfaction           1470 non-null   int64  \n",
                        " 17  MaritalStatus             1470 non-null   object \n",
                        " 18  MonthlyIncome             1470 non-null   int64  \n",
                        " 19  MonthlyRate               1470 non-null   int64  \n",
                        " 20  NumCompaniesWorked        1470 non-null   int64  \n",
                        " 21  Over18                    1470 non-null   object \n",
                        " 22  OverTime                  1470 non-null   object \n",
                        " 23  PercentSalaryHike         1470 non-null   int64  \n",
                        " 24  PerformanceRating         1470 non-null   int64  \n",
                        " 25  RelationshipSatisfaction  1470 non-null   int64  \n",
                        " 26  StandardHours             1470 non-null   int64  \n",
                        " 27  StockOptionLevel          1470 non-null   int64  \n",
                        " 28  TotalWorkingYears         1470 non-null   int64  \n",
                        " 29  TrainingTimesLastYear     1470 non-null   int64  \n",
                        " 30  WorkLifeBalance           1470 non-null   int64  \n",
                        " 31  YearsAtCompany            1470 non-null   int64  \n",
                        " 32  YearsInCurrentRole        1470 non-null   int64  \n",
                        " 33  YearsSinceLastPromotion   1470 non-null   int64  \n",
                        " 34  YearsWithCurrManager      1470 non-null   int64  \n",
                        "dtypes: float64(1), int64(26), object(8)\n",
                        "memory usage: 402.1+ KB\n"
                    ]
                }
            ],
            "source": [
                "df.info()"
            ]
        },
        {
            "cell_type": "code",
            "execution_count": 4,
            "metadata": {},
            "outputs": [
                {
                    "data": {
                        "text/plain": [
                            "(1470, 35)"
                        ]
                    },
                    "execution_count": 4,
                    "metadata": {},
                    "output_type": "execute_result"
                }
            ],
            "source": [
                "df.shape"
            ]
        },
        {
            "cell_type": "code",
            "execution_count": 5,
            "metadata": {},
            "outputs": [
                {
                    "data": {
                        "text/plain": [
                            "EmployeeId                    0\n",
                            "Age                           0\n",
                            "Attrition                   412\n",
                            "BusinessTravel                0\n",
                            "DailyRate                     0\n",
                            "Department                    0\n",
                            "DistanceFromHome              0\n",
                            "Education                     0\n",
                            "EducationField                0\n",
                            "EmployeeCount                 0\n",
                            "EnvironmentSatisfaction       0\n",
                            "Gender                        0\n",
                            "HourlyRate                    0\n",
                            "JobInvolvement                0\n",
                            "JobLevel                      0\n",
                            "JobRole                       0\n",
                            "JobSatisfaction               0\n",
                            "MaritalStatus                 0\n",
                            "MonthlyIncome                 0\n",
                            "MonthlyRate                   0\n",
                            "NumCompaniesWorked            0\n",
                            "Over18                        0\n",
                            "OverTime                      0\n",
                            "PercentSalaryHike             0\n",
                            "PerformanceRating             0\n",
                            "RelationshipSatisfaction      0\n",
                            "StandardHours                 0\n",
                            "StockOptionLevel              0\n",
                            "TotalWorkingYears             0\n",
                            "TrainingTimesLastYear         0\n",
                            "WorkLifeBalance               0\n",
                            "YearsAtCompany                0\n",
                            "YearsInCurrentRole            0\n",
                            "YearsSinceLastPromotion       0\n",
                            "YearsWithCurrManager          0\n",
                            "dtype: int64"
                        ]
                    },
                    "execution_count": 5,
                    "metadata": {},
                    "output_type": "execute_result"
                }
            ],
            "source": [
                "df.isnull().sum()"
            ]
        },
        {
            "cell_type": "code",
            "execution_count": 6,
            "metadata": {},
            "outputs": [
                {
                    "data": {
                        "text/plain": [
                            "np.int64(0)"
                        ]
                    },
                    "execution_count": 6,
                    "metadata": {},
                    "output_type": "execute_result"
                }
            ],
            "source": [
                "df.duplicated().sum()"
            ]
        },
        {
            "cell_type": "markdown",
            "metadata": {},
            "source": [
                "Terdapat beberapa informasi yang didapatkan\n",
                "- data berjumlah 1470 baris dan 35 kolom\n",
                "- kolom 'Attrition' yang nantinya akan digunakan untuk target/ label data dalam pemodelan machine learning memiliki data tipe float yang seharusnya integer\n",
                "- kolom 'Attrition' memiliki data yang kosong sebesar 412 data\n",
                "- data tidak memiliki data yang duplikat"
            ]
        },
        {
            "cell_type": "markdown",
            "metadata": {},
            "source": [
                "## Data Preparation / Preprocessing"
            ]
        },
        {
            "cell_type": "markdown",
            "metadata": {},
            "source": [
                "**Data Cleansing**"
            ]
        },
        {
            "cell_type": "code",
            "execution_count": 7,
            "metadata": {},
            "outputs": [
                {
                    "data": {
                        "text/plain": [
                            "EmployeeId                  0\n",
                            "Age                         0\n",
                            "Attrition                   0\n",
                            "BusinessTravel              0\n",
                            "DailyRate                   0\n",
                            "Department                  0\n",
                            "DistanceFromHome            0\n",
                            "Education                   0\n",
                            "EducationField              0\n",
                            "EmployeeCount               0\n",
                            "EnvironmentSatisfaction     0\n",
                            "Gender                      0\n",
                            "HourlyRate                  0\n",
                            "JobInvolvement              0\n",
                            "JobLevel                    0\n",
                            "JobRole                     0\n",
                            "JobSatisfaction             0\n",
                            "MaritalStatus               0\n",
                            "MonthlyIncome               0\n",
                            "MonthlyRate                 0\n",
                            "NumCompaniesWorked          0\n",
                            "Over18                      0\n",
                            "OverTime                    0\n",
                            "PercentSalaryHike           0\n",
                            "PerformanceRating           0\n",
                            "RelationshipSatisfaction    0\n",
                            "StandardHours               0\n",
                            "StockOptionLevel            0\n",
                            "TotalWorkingYears           0\n",
                            "TrainingTimesLastYear       0\n",
                            "WorkLifeBalance             0\n",
                            "YearsAtCompany              0\n",
                            "YearsInCurrentRole          0\n",
                            "YearsSinceLastPromotion     0\n",
                            "YearsWithCurrManager        0\n",
                            "dtype: int64"
                        ]
                    },
                    "execution_count": 7,
                    "metadata": {},
                    "output_type": "execute_result"
                }
            ],
            "source": [
                "# Menghapus data kosong\n",
                "df_clean = df.dropna()\n",
                "df_clean.isnull().sum()"
            ]
        },
        {
            "cell_type": "code",
            "execution_count": 8,
            "metadata": {},
            "outputs": [
                {
                    "name": "stdout",
                    "output_type": "stream",
                    "text": [
                        "<class 'pandas.core.frame.DataFrame'>\n",
                        "Index: 1058 entries, 1 to 1469\n",
                        "Data columns (total 35 columns):\n",
                        " #   Column                    Non-Null Count  Dtype \n",
                        "---  ------                    --------------  ----- \n",
                        " 0   EmployeeId                1058 non-null   int64 \n",
                        " 1   Age                       1058 non-null   int64 \n",
                        " 2   Attrition                 1058 non-null   int64 \n",
                        " 3   BusinessTravel            1058 non-null   object\n",
                        " 4   DailyRate                 1058 non-null   int64 \n",
                        " 5   Department                1058 non-null   object\n",
                        " 6   DistanceFromHome          1058 non-null   int64 \n",
                        " 7   Education                 1058 non-null   int64 \n",
                        " 8   EducationField            1058 non-null   object\n",
                        " 9   EmployeeCount             1058 non-null   int64 \n",
                        " 10  EnvironmentSatisfaction   1058 non-null   int64 \n",
                        " 11  Gender                    1058 non-null   object\n",
                        " 12  HourlyRate                1058 non-null   int64 \n",
                        " 13  JobInvolvement            1058 non-null   int64 \n",
                        " 14  JobLevel                  1058 non-null   int64 \n",
                        " 15  JobRole                   1058 non-null   object\n",
                        " 16  JobSatisfaction           1058 non-null   int64 \n",
                        " 17  MaritalStatus             1058 non-null   object\n",
                        " 18  MonthlyIncome             1058 non-null   int64 \n",
                        " 19  MonthlyRate               1058 non-null   int64 \n",
                        " 20  NumCompaniesWorked        1058 non-null   int64 \n",
                        " 21  Over18                    1058 non-null   object\n",
                        " 22  OverTime                  1058 non-null   object\n",
                        " 23  PercentSalaryHike         1058 non-null   int64 \n",
                        " 24  PerformanceRating         1058 non-null   int64 \n",
                        " 25  RelationshipSatisfaction  1058 non-null   int64 \n",
                        " 26  StandardHours             1058 non-null   int64 \n",
                        " 27  StockOptionLevel          1058 non-null   int64 \n",
                        " 28  TotalWorkingYears         1058 non-null   int64 \n",
                        " 29  TrainingTimesLastYear     1058 non-null   int64 \n",
                        " 30  WorkLifeBalance           1058 non-null   int64 \n",
                        " 31  YearsAtCompany            1058 non-null   int64 \n",
                        " 32  YearsInCurrentRole        1058 non-null   int64 \n",
                        " 33  YearsSinceLastPromotion   1058 non-null   int64 \n",
                        " 34  YearsWithCurrManager      1058 non-null   int64 \n",
                        "dtypes: int64(27), object(8)\n",
                        "memory usage: 297.6+ KB\n"
                    ]
                },
                {
                    "name": "stderr",
                    "output_type": "stream",
                    "text": [
                        "C:\\Users\\Dewi\\AppData\\Local\\Temp\\ipykernel_12192\\2377735228.py:2: SettingWithCopyWarning: \n",
                        "A value is trying to be set on a copy of a slice from a DataFrame.\n",
                        "Try using .loc[row_indexer,col_indexer] = value instead\n",
                        "\n",
                        "See the caveats in the documentation: https://pandas.pydata.org/pandas-docs/stable/user_guide/indexing.html#returning-a-view-versus-a-copy\n",
                        "  df_clean['Attrition']= df_clean['Attrition'].astype('int')\n"
                    ]
                }
            ],
            "source": [
                "# Mengganti tipe data pada kolom Attrition\n",
                "df_clean['Attrition']= df_clean['Attrition'].astype('int')\n",
                "df_clean.info()"
            ]
        },
        {
            "cell_type": "markdown",
            "metadata": {},
            "source": [
                "**Feature Selection**"
            ]
        },
        {
            "cell_type": "code",
            "execution_count": 9,
            "metadata": {},
            "outputs": [
                {
                    "data": {
                        "text/html": [
                            "<div>\n",
                            "<style scoped>\n",
                            "    .dataframe tbody tr th:only-of-type {\n",
                            "        vertical-align: middle;\n",
                            "    }\n",
                            "\n",
                            "    .dataframe tbody tr th {\n",
                            "        vertical-align: top;\n",
                            "    }\n",
                            "\n",
                            "    .dataframe thead th {\n",
                            "        text-align: right;\n",
                            "    }\n",
                            "</style>\n",
                            "<table border=\"1\" class=\"dataframe\">\n",
                            "  <thead>\n",
                            "    <tr style=\"text-align: right;\">\n",
                            "      <th></th>\n",
                            "      <th>Age</th>\n",
                            "      <th>Attrition</th>\n",
                            "      <th>Department</th>\n",
                            "      <th>Gender</th>\n",
                            "      <th>JobSatisfaction</th>\n",
                            "      <th>EnvironmentSatisfaction</th>\n",
                            "      <th>MaritalStatus</th>\n",
                            "      <th>MonthlyIncome</th>\n",
                            "      <th>OverTime</th>\n",
                            "      <th>PerformanceRating</th>\n",
                            "      <th>TotalWorkingYears</th>\n",
                            "      <th>WorkLifeBalance</th>\n",
                            "    </tr>\n",
                            "  </thead>\n",
                            "  <tbody>\n",
                            "    <tr>\n",
                            "      <th>1</th>\n",
                            "      <td>37</td>\n",
                            "      <td>1</td>\n",
                            "      <td>Research &amp; Development</td>\n",
                            "      <td>Female</td>\n",
                            "      <td>2</td>\n",
                            "      <td>1</td>\n",
                            "      <td>Married</td>\n",
                            "      <td>4777</td>\n",
                            "      <td>No</td>\n",
                            "      <td>3</td>\n",
                            "      <td>15</td>\n",
                            "      <td>1</td>\n",
                            "    </tr>\n",
                            "    <tr>\n",
                            "      <th>2</th>\n",
                            "      <td>51</td>\n",
                            "      <td>1</td>\n",
                            "      <td>Research &amp; Development</td>\n",
                            "      <td>Male</td>\n",
                            "      <td>3</td>\n",
                            "      <td>1</td>\n",
                            "      <td>Married</td>\n",
                            "      <td>2461</td>\n",
                            "      <td>Yes</td>\n",
                            "      <td>3</td>\n",
                            "      <td>18</td>\n",
                            "      <td>4</td>\n",
                            "    </tr>\n",
                            "    <tr>\n",
                            "      <th>3</th>\n",
                            "      <td>42</td>\n",
                            "      <td>0</td>\n",
                            "      <td>Sales</td>\n",
                            "      <td>Female</td>\n",
                            "      <td>2</td>\n",
                            "      <td>3</td>\n",
                            "      <td>Married</td>\n",
                            "      <td>13525</td>\n",
                            "      <td>No</td>\n",
                            "      <td>3</td>\n",
                            "      <td>23</td>\n",
                            "      <td>4</td>\n",
                            "    </tr>\n",
                            "    <tr>\n",
                            "      <th>6</th>\n",
                            "      <td>40</td>\n",
                            "      <td>0</td>\n",
                            "      <td>Sales</td>\n",
                            "      <td>Male</td>\n",
                            "      <td>4</td>\n",
                            "      <td>2</td>\n",
                            "      <td>Married</td>\n",
                            "      <td>7457</td>\n",
                            "      <td>Yes</td>\n",
                            "      <td>4</td>\n",
                            "      <td>6</td>\n",
                            "      <td>2</td>\n",
                            "    </tr>\n",
                            "    <tr>\n",
                            "      <th>7</th>\n",
                            "      <td>55</td>\n",
                            "      <td>1</td>\n",
                            "      <td>Research &amp; Development</td>\n",
                            "      <td>Male</td>\n",
                            "      <td>1</td>\n",
                            "      <td>4</td>\n",
                            "      <td>Married</td>\n",
                            "      <td>19859</td>\n",
                            "      <td>Yes</td>\n",
                            "      <td>3</td>\n",
                            "      <td>24</td>\n",
                            "      <td>3</td>\n",
                            "    </tr>\n",
                            "  </tbody>\n",
                            "</table>\n",
                            "</div>"
                        ],
                        "text/plain": [
                            "   Age  Attrition              Department  Gender  JobSatisfaction  \\\n",
                            "1   37          1  Research & Development  Female                2   \n",
                            "2   51          1  Research & Development    Male                3   \n",
                            "3   42          0                   Sales  Female                2   \n",
                            "6   40          0                   Sales    Male                4   \n",
                            "7   55          1  Research & Development    Male                1   \n",
                            "\n",
                            "   EnvironmentSatisfaction MaritalStatus  MonthlyIncome OverTime  \\\n",
                            "1                        1       Married           4777       No   \n",
                            "2                        1       Married           2461      Yes   \n",
                            "3                        3       Married          13525       No   \n",
                            "6                        2       Married           7457      Yes   \n",
                            "7                        4       Married          19859      Yes   \n",
                            "\n",
                            "   PerformanceRating  TotalWorkingYears  WorkLifeBalance  \n",
                            "1                  3                 15                1  \n",
                            "2                  3                 18                4  \n",
                            "3                  3                 23                4  \n",
                            "6                  4                  6                2  \n",
                            "7                  3                 24                3  "
                        ]
                    },
                    "execution_count": 9,
                    "metadata": {},
                    "output_type": "execute_result"
                }
            ],
            "source": [
                "# Menggabungkan kolom kolom yang ingin digunakan\n",
                "df_fix = df_clean[['Age', 'Attrition', 'Department', 'Gender', 'JobSatisfaction', 'EnvironmentSatisfaction',\n",
                "                   'MaritalStatus', 'MonthlyIncome', 'OverTime', 'PerformanceRating', 'TotalWorkingYears', 'WorkLifeBalance']]\n",
                "\n",
                "df_fix.head()\n"
            ]
        },
        {
            "cell_type": "code",
            "execution_count": 10,
            "metadata": {},
            "outputs": [],
            "source": [
                "# Menyimpan data untuk pembuatan dashboard\n",
                "df_fix.to_csv('result_data.csv', index=False)"
            ]
        },
        {
            "cell_type": "markdown",
            "metadata": {},
            "source": [
                "## EDA"
            ]
        },
        {
            "cell_type": "code",
            "execution_count": 11,
            "metadata": {},
            "outputs": [
                {
                    "data": {
                        "image/png": "[encoded data removed]",
                        "text/plain": [
                            "<Figure size 500x500 with 1 Axes>"
                        ]
                    },
                    "metadata": {},
                    "output_type": "display_data"
                }
            ],
            "source": [
                "# Attrition\n",
                "attrition_counts = df_fix['Attrition'].value_counts()\n",
                "\n",
                "colors = ['#A594F9', '#E5D9F2']\n",
                "\n",
                "plt.figure(figsize=(5,5))\n",
                "plt.pie(attrition_counts, labels=attrition_counts.index, autopct='%1.1f%%', startangle=90, colors=colors)\n",
                "plt.title('Attrition Distribution')\n",
                "plt.show()"
            ]
        },
        {
            "cell_type": "markdown",
            "metadata": {},
            "source": [
                "- Karyawan yang tidak pindah dari perusahaan lebih besar daripada yang pindah"
            ]
        },
        {
            "cell_type": "code",
            "execution_count": 12,
            "metadata": {},
            "outputs": [
                {
                    "data": {
                        "text/plain": [
                            "<Axes: xlabel='Age', ylabel='Count'>"
                        ]
                    },
                    "execution_count": 12,
                    "metadata": {},
                    "output_type": "execute_result"
                },
                {
                    "data": {
                        "image/png": "[encoded data removed]",
                        "text/plain": [
                            "<Figure size 600x500 with 1 Axes>"
                        ]
                    },
                    "metadata": {},
                    "output_type": "display_data"
                }
            ],
            "source": [
                "# Age\n",
                "plt.figure(figsize=(6,5))\n",
                "sns.histplot(data = df_fix, x=\"Age\",hue=\"Attrition\", kde=True,palette=[\"#A594F9\",\"#F5EFFF\"])"
            ]
        },
        {
            "cell_type": "markdown",
            "metadata": {},
            "source": [
                "- Kisaran umur pegawai yang pindah/ meninggalkan perusahaan berumur 30-35 tahun"
            ]
        },
        {
            "cell_type": "code",
            "execution_count": 13,
            "metadata": {},
            "outputs": [
                {
                    "data": {
                        "text/plain": [
                            "<Axes: xlabel='TotalWorkingYears', ylabel='Count'>"
                        ]
                    },
                    "execution_count": 13,
                    "metadata": {},
                    "output_type": "execute_result"
                },
                {
                    "data": {
                        "image/png": "[encoded data removed]",
                        "text/plain": [
                            "<Figure size 600x500 with 1 Axes>"
                        ]
                    },
                    "metadata": {},
                    "output_type": "display_data"
                }
            ],
            "source": [
                "# Total working years\n",
                "plt.figure(figsize=(6,5))\n",
                "sns.histplot(data = df_fix, x=\"TotalWorkingYears\",hue=\"Attrition\", kde=True,palette=[\"#A594F9\",\"#F5EFFF\"])"
            ]
        },
        {
            "cell_type": "markdown",
            "metadata": {},
            "source": [
                "- Pegawai yang meninggalkan perusahaan paling banyak saat 5-10 tahun mereka bekerja di perusahaan"
            ]
        },
        {
            "cell_type": "code",
            "execution_count": 14,
            "metadata": {},
            "outputs": [
                {
                    "data": {
                        "image/png": "[encoded data removed]",
                        "text/plain": [
                            "<Figure size 600x500 with 1 Axes>"
                        ]
                    },
                    "metadata": {},
                    "output_type": "display_data"
                }
            ],
            "source": [
                "# Monthly income\n",
                "plt.figure(figsize=(6, 5))\n",
                "sns.kdeplot(data = df_fix, x = 'MonthlyIncome', hue=\"Attrition\", fill=True, common_norm=False, palette=[\"#A594F9\",\"#CDC1FF\"])\n",
                "plt.title('Distribution of Monthly Income')\n",
                "plt.xlabel('Monthly Income')\n",
                "plt.ylabel('Density')\n",
                "plt.grid()\n",
                "plt.show()"
            ]
        },
        {
            "cell_type": "markdown",
            "metadata": {},
            "source": [
                "- Gaji bulanan pegawai yang meninggalkan perusahaan paling banyak berada di bawah 5k"
            ]
        },
        {
            "cell_type": "code",
            "execution_count": 15,
            "metadata": {},
            "outputs": [
                {
                    "data": {
                        "image/png": "[encoded data removed]",
                        "text/plain": [
                            "<Figure size 1000x500 with 1 Axes>"
                        ]
                    },
                    "metadata": {},
                    "output_type": "display_data"
                }
            ],
            "source": [
                "# Melihat departemen mana yang paling banyak mengalami attrition\n",
                "department_counts = df_fix.groupby(['Department', 'Attrition'])['Department'].count()\n",
                "\n",
                "# Mengambil data attrition yang berlabel 1\n",
                "left_count = department_counts.xs(1, level='Attrition')\n",
                "\n",
                "colors = [\"#A594F9\",\"#CDC1FF\",\"#F5EFFF\"]\n",
                "plt.figure(figsize=(10, 5))\n",
                "plt.pie(left_count, \n",
                "        labels=left_count.index, \n",
                "        colors=colors, \n",
                "        autopct='%1.1f%%',\n",
                "        wedgeprops={'edgecolor': 'black'})\n",
                "plt.title('Department distribution for departing employees')\n",
                "plt.show()"
            ]
        },
        {
            "cell_type": "markdown",
            "metadata": {},
            "source": [
                "- Pegawai yang meninggalkan perusahaan paling banyak berada pada departemen research & development"
            ]
        },
        {
            "cell_type": "code",
            "execution_count": 16,
            "metadata": {},
            "outputs": [
                {
                    "data": {
                        "image/png": "[encoded data removed]",
                        "text/plain": [
                            "<Figure size 1000x500 with 1 Axes>"
                        ]
                    },
                    "metadata": {},
                    "output_type": "display_data"
                }
            ],
            "source": [
                "# Melihat apakah pekerja yang meninggalkan perusahaan mengalami overtime\n",
                "overtime_counts = df_fix.groupby(['OverTime', 'Attrition'])['OverTime'].count()\n",
                "left_count = overtime_counts.xs(1, level='Attrition')\n",
                "\n",
                "colors = [\"#A594F9\",\"#CDC1FF\"]\n",
                "plt.figure(figsize=(10, 5))\n",
                "plt.pie(left_count, \n",
                "        labels=left_count.index, \n",
                "        colors=colors, \n",
                "        autopct='%1.1f%%',\n",
                "        wedgeprops={'edgecolor': 'black'},\n",
                "        startangle=90)\n",
                "plt.title('Overtime distribution for departing employees')\n",
                "plt.show()"
            ]
        },
        {
            "cell_type": "markdown",
            "metadata": {},
            "source": [
                "- Kebanyakan pegawai yang meninggalkan perusahaan mengalami lembur kerja"
            ]
        },
        {
            "cell_type": "code",
            "execution_count": 17,
            "metadata": {},
            "outputs": [
                {
                    "name": "stderr",
                    "output_type": "stream",
                    "text": [
                        "C:\\Users\\Dewi\\AppData\\Local\\Temp\\ipykernel_12192\\1806189015.py:7: FutureWarning: \n",
                        "\n",
                        "Passing `palette` without assigning `hue` is deprecated and will be removed in v0.14.0. Assign the `x` variable to `hue` and set `legend=False` for the same effect.\n",
                        "\n",
                        "  sns.barplot(data=left_count, x='PerformanceRating', y='Count', palette=colors)\n"
                    ]
                },
                {
                    "data": {
                        "image/png": "[encoded data removed]",
                        "text/plain": [
                            "<Figure size 600x500 with 1 Axes>"
                        ]
                    },
                    "metadata": {},
                    "output_type": "display_data"
                }
            ],
            "source": [
                "# Melihat rating performance pegawai yang meninggalkan perusahaan\n",
                "performance_counts = df_fix.groupby(['PerformanceRating', 'Attrition'])['PerformanceRating'].count()\n",
                "left_count = performance_counts.xs(1, level='Attrition').reset_index(name='Count')\n",
                "\n",
                "colors = [\"#A594F9\",\"#CDC1FF\"]\n",
                "plt.figure(figsize=(6, 5))\n",
                "sns.barplot(data=left_count, x='PerformanceRating', y='Count', palette=colors)\n",
                "plt.xlabel('Performance Rating')\n",
                "plt.ylabel('Count')\n",
                "plt.title('Performance Rating Distribution for Departing Employees')\n",
                "plt.show()"
            ]
        },
        {
            "cell_type": "markdown",
            "metadata": {},
            "source": [
                "- Rating performa pekerjaan pegawai yang meninggalkan perusahaan paling banyak di rating 3"
            ]
        },
        {
            "cell_type": "code",
            "execution_count": 18,
            "metadata": {},
            "outputs": [
                {
                    "name": "stderr",
                    "output_type": "stream",
                    "text": [
                        "C:\\Users\\Dewi\\AppData\\Local\\Temp\\ipykernel_12192\\4161801926.py:7: FutureWarning: \n",
                        "\n",
                        "Passing `palette` without assigning `hue` is deprecated and will be removed in v0.14.0. Assign the `x` variable to `hue` and set `legend=False` for the same effect.\n",
                        "\n",
                        "  sns.barplot(data=left_count, x='WorkLifeBalance', y='Count', palette=colors)\n"
                    ]
                },
                {
                    "data": {
                        "image/png": "[encoded data removed]",
                        "text/plain": [
                            "<Figure size 600x500 with 1 Axes>"
                        ]
                    },
                    "metadata": {},
                    "output_type": "display_data"
                }
            ],
            "source": [
                "# Melihat rating work life balance pegawai yang meninggalkan perusahaan\n",
                "worklife_counts = df_fix.groupby(['WorkLifeBalance', 'Attrition'])['WorkLifeBalance'].count()\n",
                "left_count = worklife_counts.xs(1, level='Attrition').reset_index(name='Count')\n",
                "\n",
                "colors = [\"#F5EFFF\",\"#CDC1FF\",\"#A594F9\", \"#E5D9F2\"]\n",
                "plt.figure(figsize=(6, 5))\n",
                "sns.barplot(data=left_count, x='WorkLifeBalance', y='Count', palette=colors)\n",
                "plt.xlabel('Rating')\n",
                "plt.ylabel('Count')\n",
                "plt.title('Work Life Balance Rating Distribution for Departing Employees')\n",
                "plt.show()"
            ]
        },
        {
            "cell_type": "markdown",
            "metadata": {},
            "source": [
                "- Rating work life balance pekerja yang meninggalkan perusahaan paling banyak adalah rating 3"
            ]
        },
        {
            "cell_type": "markdown",
            "metadata": {},
            "source": [
                "## Modeling"
            ]
        },
        {
            "cell_type": "markdown",
            "metadata": {},
            "source": [
                "**Data preprocessing**"
            ]
        },
        {
            "cell_type": "code",
            "execution_count": 19,
            "metadata": {},
            "outputs": [
                {
                    "data": {
                        "text/html": [
                            "<div>\n",
                            "<style scoped>\n",
                            "    .dataframe tbody tr th:only-of-type {\n",
                            "        vertical-align: middle;\n",
                            "    }\n",
                            "\n",
                            "    .dataframe tbody tr th {\n",
                            "        vertical-align: top;\n",
                            "    }\n",
                            "\n",
                            "    .dataframe thead th {\n",
                            "        text-align: right;\n",
                            "    }\n",
                            "</style>\n",
                            "<table border=\"1\" class=\"dataframe\">\n",
                            "  <thead>\n",
                            "    <tr style=\"text-align: right;\">\n",
                            "      <th></th>\n",
                            "      <th>Age</th>\n",
                            "      <th>Attrition</th>\n",
                            "      <th>Department</th>\n",
                            "      <th>Gender</th>\n",
                            "      <th>JobSatisfaction</th>\n",
                            "      <th>EnvironmentSatisfaction</th>\n",
                            "      <th>MaritalStatus</th>\n",
                            "      <th>MonthlyIncome</th>\n",
                            "      <th>OverTime</th>\n",
                            "      <th>PerformanceRating</th>\n",
                            "      <th>TotalWorkingYears</th>\n",
                            "      <th>WorkLifeBalance</th>\n",
                            "    </tr>\n",
                            "  </thead>\n",
                            "  <tbody>\n",
                            "    <tr>\n",
                            "      <th>1</th>\n",
                            "      <td>37</td>\n",
                            "      <td>1</td>\n",
                            "      <td>1</td>\n",
                            "      <td>0</td>\n",
                            "      <td>2</td>\n",
                            "      <td>1</td>\n",
                            "      <td>1</td>\n",
                            "      <td>4777</td>\n",
                            "      <td>0</td>\n",
                            "      <td>3</td>\n",
                            "      <td>15</td>\n",
                            "      <td>1</td>\n",
                            "    </tr>\n",
                            "    <tr>\n",
                            "      <th>2</th>\n",
                            "      <td>51</td>\n",
                            "      <td>1</td>\n",
                            "      <td>1</td>\n",
                            "      <td>1</td>\n",
                            "      <td>3</td>\n",
                            "      <td>1</td>\n",
                            "      <td>1</td>\n",
                            "      <td>2461</td>\n",
                            "      <td>1</td>\n",
                            "      <td>3</td>\n",
                            "      <td>18</td>\n",
                            "      <td>4</td>\n",
                            "    </tr>\n",
                            "    <tr>\n",
                            "      <th>3</th>\n",
                            "      <td>42</td>\n",
                            "      <td>0</td>\n",
                            "      <td>2</td>\n",
                            "      <td>0</td>\n",
                            "      <td>2</td>\n",
                            "      <td>3</td>\n",
                            "      <td>1</td>\n",
                            "      <td>13525</td>\n",
                            "      <td>0</td>\n",
                            "      <td>3</td>\n",
                            "      <td>23</td>\n",
                            "      <td>4</td>\n",
                            "    </tr>\n",
                            "    <tr>\n",
                            "      <th>6</th>\n",
                            "      <td>40</td>\n",
                            "      <td>0</td>\n",
                            "      <td>2</td>\n",
                            "      <td>1</td>\n",
                            "      <td>4</td>\n",
                            "      <td>2</td>\n",
                            "      <td>1</td>\n",
                            "      <td>7457</td>\n",
                            "      <td>1</td>\n",
                            "      <td>4</td>\n",
                            "      <td>6</td>\n",
                            "      <td>2</td>\n",
                            "    </tr>\n",
                            "    <tr>\n",
                            "      <th>7</th>\n",
                            "      <td>55</td>\n",
                            "      <td>1</td>\n",
                            "      <td>1</td>\n",
                            "      <td>1</td>\n",
                            "      <td>1</td>\n",
                            "      <td>4</td>\n",
                            "      <td>1</td>\n",
                            "      <td>19859</td>\n",
                            "      <td>1</td>\n",
                            "      <td>3</td>\n",
                            "      <td>24</td>\n",
                            "      <td>3</td>\n",
                            "    </tr>\n",
                            "  </tbody>\n",
                            "</table>\n",
                            "</div>"
                        ],
                        "text/plain": [
                            "   Age  Attrition Department Gender  JobSatisfaction  EnvironmentSatisfaction  \\\n",
                            "1   37          1          1      0                2                        1   \n",
                            "2   51          1          1      1                3                        1   \n",
                            "3   42          0          2      0                2                        3   \n",
                            "6   40          0          2      1                4                        2   \n",
                            "7   55          1          1      1                1                        4   \n",
                            "\n",
                            "  MaritalStatus  MonthlyIncome OverTime  PerformanceRating  TotalWorkingYears  \\\n",
                            "1             1           4777        0                  3                 15   \n",
                            "2             1           2461        1                  3                 18   \n",
                            "3             1          13525        0                  3                 23   \n",
                            "6             1           7457        1                  4                  6   \n",
                            "7             1          19859        1                  3                 24   \n",
                            "\n",
                            "   WorkLifeBalance  \n",
                            "1                1  \n",
                            "2                4  \n",
                            "3                4  \n",
                            "6                2  \n",
                            "7                3  "
                        ]
                    },
                    "execution_count": 19,
                    "metadata": {},
                    "output_type": "execute_result"
                }
            ],
            "source": [
                "# Encode data kateorikal\n",
                "encode = LabelEncoder()\n",
                "\n",
                "df_fix.loc[:,'Department'] = encode.fit_transform(df_fix['Department'])\n",
                "df_fix.loc[:,'Gender'] = encode.fit_transform(df_fix['Gender'])\n",
                "df_fix.loc[:,'MaritalStatus'] = encode.fit_transform(df_fix['MaritalStatus'])\n",
                "df_fix.loc[:,'OverTime'] = encode.fit_transform(df_fix['OverTime'])\n",
                "\n",
                "df_fix.head()"
            ]
        },
        {
            "cell_type": "code",
            "execution_count": 20,
            "metadata": {},
            "outputs": [
                {
                    "name": "stderr",
                    "output_type": "stream",
                    "text": [
                        "C:\\Users\\Dewi\\AppData\\Local\\Temp\\ipykernel_12192\\2789934877.py:3: SettingWithCopyWarning: \n",
                        "A value is trying to be set on a copy of a slice from a DataFrame.\n",
                        "Try using .loc[row_indexer,col_indexer] = value instead\n",
                        "\n",
                        "See the caveats in the documentation: https://pandas.pydata.org/pandas-docs/stable/user_guide/indexing.html#returning-a-view-versus-a-copy\n",
                        "  df_fix[data] = df_fix[data].astype(float)\n"
                    ]
                },
                {
                    "data": {
                        "text/html": [
                            "<div>\n",
                            "<style scoped>\n",
                            "    .dataframe tbody tr th:only-of-type {\n",
                            "        vertical-align: middle;\n",
                            "    }\n",
                            "\n",
                            "    .dataframe tbody tr th {\n",
                            "        vertical-align: top;\n",
                            "    }\n",
                            "\n",
                            "    .dataframe thead th {\n",
                            "        text-align: right;\n",
                            "    }\n",
                            "</style>\n",
                            "<table border=\"1\" class=\"dataframe\">\n",
                            "  <thead>\n",
                            "    <tr style=\"text-align: right;\">\n",
                            "      <th></th>\n",
                            "      <th>Age</th>\n",
                            "      <th>Attrition</th>\n",
                            "      <th>Department</th>\n",
                            "      <th>Gender</th>\n",
                            "      <th>JobSatisfaction</th>\n",
                            "      <th>EnvironmentSatisfaction</th>\n",
                            "      <th>MaritalStatus</th>\n",
                            "      <th>MonthlyIncome</th>\n",
                            "      <th>OverTime</th>\n",
                            "      <th>PerformanceRating</th>\n",
                            "      <th>TotalWorkingYears</th>\n",
                            "      <th>WorkLifeBalance</th>\n",
                            "    </tr>\n",
                            "  </thead>\n",
                            "  <tbody>\n",
                            "    <tr>\n",
                            "      <th>1</th>\n",
                            "      <td>-0.005929</td>\n",
                            "      <td>1</td>\n",
                            "      <td>1</td>\n",
                            "      <td>0</td>\n",
                            "      <td>2</td>\n",
                            "      <td>1</td>\n",
                            "      <td>1</td>\n",
                            "      <td>-0.382376</td>\n",
                            "      <td>0</td>\n",
                            "      <td>3</td>\n",
                            "      <td>0.444831</td>\n",
                            "      <td>1</td>\n",
                            "    </tr>\n",
                            "    <tr>\n",
                            "      <th>2</th>\n",
                            "      <td>1.482487</td>\n",
                            "      <td>1</td>\n",
                            "      <td>1</td>\n",
                            "      <td>1</td>\n",
                            "      <td>3</td>\n",
                            "      <td>1</td>\n",
                            "      <td>1</td>\n",
                            "      <td>-0.861343</td>\n",
                            "      <td>1</td>\n",
                            "      <td>3</td>\n",
                            "      <td>0.819240</td>\n",
                            "      <td>4</td>\n",
                            "    </tr>\n",
                            "    <tr>\n",
                            "      <th>3</th>\n",
                            "      <td>0.525648</td>\n",
                            "      <td>0</td>\n",
                            "      <td>2</td>\n",
                            "      <td>0</td>\n",
                            "      <td>2</td>\n",
                            "      <td>3</td>\n",
                            "      <td>1</td>\n",
                            "      <td>1.426778</td>\n",
                            "      <td>0</td>\n",
                            "      <td>3</td>\n",
                            "      <td>1.443254</td>\n",
                            "      <td>4</td>\n",
                            "    </tr>\n",
                            "    <tr>\n",
                            "      <th>6</th>\n",
                            "      <td>0.313018</td>\n",
                            "      <td>0</td>\n",
                            "      <td>2</td>\n",
                            "      <td>1</td>\n",
                            "      <td>4</td>\n",
                            "      <td>2</td>\n",
                            "      <td>1</td>\n",
                            "      <td>0.171869</td>\n",
                            "      <td>1</td>\n",
                            "      <td>4</td>\n",
                            "      <td>-0.678394</td>\n",
                            "      <td>2</td>\n",
                            "    </tr>\n",
                            "    <tr>\n",
                            "      <th>7</th>\n",
                            "      <td>1.907749</td>\n",
                            "      <td>1</td>\n",
                            "      <td>1</td>\n",
                            "      <td>1</td>\n",
                            "      <td>1</td>\n",
                            "      <td>4</td>\n",
                            "      <td>1</td>\n",
                            "      <td>2.736699</td>\n",
                            "      <td>1</td>\n",
                            "      <td>3</td>\n",
                            "      <td>1.568057</td>\n",
                            "      <td>3</td>\n",
                            "    </tr>\n",
                            "  </tbody>\n",
                            "</table>\n",
                            "</div>"
                        ],
                        "text/plain": [
                            "        Age  Attrition Department Gender  JobSatisfaction  \\\n",
                            "1 -0.005929          1          1      0                2   \n",
                            "2  1.482487          1          1      1                3   \n",
                            "3  0.525648          0          2      0                2   \n",
                            "6  0.313018          0          2      1                4   \n",
                            "7  1.907749          1          1      1                1   \n",
                            "\n",
                            "   EnvironmentSatisfaction MaritalStatus  MonthlyIncome OverTime  \\\n",
                            "1                        1             1      -0.382376        0   \n",
                            "2                        1             1      -0.861343        1   \n",
                            "3                        3             1       1.426778        0   \n",
                            "6                        2             1       0.171869        1   \n",
                            "7                        4             1       2.736699        1   \n",
                            "\n",
                            "   PerformanceRating  TotalWorkingYears  WorkLifeBalance  \n",
                            "1                  3           0.444831                1  \n",
                            "2                  3           0.819240                4  \n",
                            "3                  3           1.443254                4  \n",
                            "6                  4          -0.678394                2  \n",
                            "7                  3           1.568057                3  "
                        ]
                    },
                    "execution_count": 20,
                    "metadata": {},
                    "output_type": "execute_result"
                }
            ],
            "source": [
                "# Normalisasi kolom\n",
                "data = ['Age', 'MonthlyIncome', 'TotalWorkingYears']\n",
                "df_fix[data] = df_fix[data].astype(float)\n",
                "\n",
                "scaler = StandardScaler()\n",
                "df_fix.loc[:,data] = scaler.fit_transform(df_fix[data])\n",
                "\n",
                "df_fix.head()"
            ]
        },
        {
            "cell_type": "code",
            "execution_count": 21,
            "metadata": {},
            "outputs": [
                {
                    "name": "stdout",
                    "output_type": "stream",
                    "text": [
                        "Counter({0: 879, 1: 179})\n",
                        "Counter({1: 879, 0: 879})\n"
                    ]
                }
            ],
            "source": [
                "# SMOTE\n",
                "x = df_fix.drop(['Attrition'], axis = 1)\n",
                "y = df_fix.loc[:,'Attrition']\n",
                "\n",
                "counter = Counter(y)\n",
                "print(counter)\n",
                "oversample = SMOTE()\n",
                "X, y = oversample.fit_resample(x, y)\n",
                "counter = Counter(y)\n",
                "print(counter)"
            ]
        },
        {
            "cell_type": "code",
            "execution_count": 22,
            "metadata": {},
            "outputs": [
                {
                    "name": "stdout",
                    "output_type": "stream",
                    "text": [
                        "Total keseluruhan data latih: 1406\n",
                        "Total keseluruhan data uji: 352\n"
                    ]
                }
            ],
            "source": [
                "# Split dataset\n",
                "X_train, X_test, y_train, y_test = train_test_split(X, y, test_size = 0.2, random_state=100)\n",
                "\n",
                "print(f'Total keseluruhan data latih: {len(X_train)}')\n",
                "print(f'Total keseluruhan data uji: {len(X_test)}')"
            ]
        },
        {
            "cell_type": "markdown",
            "metadata": {},
            "source": [
                "**Modelling**"
            ]
        },
        {
            "cell_type": "code",
            "execution_count": 43,
            "metadata": {},
            "outputs": [
                {
                    "data": {
                        "text/html": [
                            "<style>#sk-container-id-7 {\n",
                            "  /* Definition of color scheme common for light and dark mode */\n",
                            "  --sklearn-color-text: black;\n",
                            "  --sklearn-color-line: gray;\n",
                            "  /* Definition of color scheme for unfitted estimators */\n",
                            "  --sklearn-color-unfitted-level-0: #fff5e6;\n",
                            "  --sklearn-color-unfitted-level-1: #f6e4d2;\n",
                            "  --sklearn-color-unfitted-level-2: #ffe0b3;\n",
                            "  --sklearn-color-unfitted-level-3: chocolate;\n",
                            "  /* Definition of color scheme for fitted estimators */\n",
                            "  --sklearn-color-fitted-level-0: #f0f8ff;\n",
                            "  --sklearn-color-fitted-level-1: #d4ebff;\n",
                            "  --sklearn-color-fitted-level-2: #b3dbfd;\n",
                            "  --sklearn-color-fitted-level-3: cornflowerblue;\n",
                            "\n",
                            "  /* Specific color for light theme */\n",
                            "  --sklearn-color-text-on-default-background: var(--sg-text-color, var(--theme-code-foreground, var(--jp-content-font-color1, black)));\n",
                            "  --sklearn-color-background: var(--sg-background-color, var(--theme-background, var(--jp-layout-color0, white)));\n",
                            "  --sklearn-color-border-box: var(--sg-text-color, var(--theme-code-foreground, var(--jp-content-font-color1, black)));\n",
                            "  --sklearn-color-icon: #696969;\n",
                            "\n",
                            "  @media (prefers-color-scheme: dark) {\n",
                            "    /* Redefinition of color scheme for dark theme */\n",
                            "    --sklearn-color-text-on-default-background: var(--sg-text-color, var(--theme-code-foreground, var(--jp-content-font-color1, white)));\n",
                            "    --sklearn-color-background: var(--sg-background-color, var(--theme-background, var(--jp-layout-color0, #111)));\n",
                            "    --sklearn-color-border-box: var(--sg-text-color, var(--theme-code-foreground, var(--jp-content-font-color1, white)));\n",
                            "    --sklearn-color-icon: #878787;\n",
                            "  }\n",
                            "}\n",
                            "\n",
                            "#sk-container-id-7 {\n",
                            "  color: var(--sklearn-color-text);\n",
                            "}\n",
                            "\n",
                            "#sk-container-id-7 pre {\n",
                            "  padding: 0;\n",
                            "}\n",
                            "\n",
                            "#sk-container-id-7 input.sk-hidden--visually {\n",
                            "  border: 0;\n",
                            "  clip: rect(1px 1px 1px 1px);\n",
                            "  clip: rect(1px, 1px, 1px, 1px);\n",
                            "  height: 1px;\n",
                            "  margin: -1px;\n",
                            "  overflow: hidden;\n",
                            "  padding: 0;\n",
                            "  position: absolute;\n",
                            "  width: 1px;\n",
                            "}\n",
                            "\n",
                            "#sk-container-id-7 div.sk-dashed-wrapped {\n",
                            "  border: 1px dashed var(--sklearn-color-line);\n",
                            "  margin: 0 0.4em 0.5em 0.4em;\n",
                            "  box-sizing: border-box;\n",
                            "  padding-bottom: 0.4em;\n",
                            "  background-color: var(--sklearn-color-background);\n",
                            "}\n",
                            "\n",
                            "#sk-container-id-7 div.sk-container {\n",
                            "  /* jupyter's `normalize.less` sets `[hidden] { display: none; }`\n",
                            "     but bootstrap.min.css set `[hidden] { display: none !important; }`\n",
                            "     so we also need the `!important` here to be able to override the\n",
                            "     default hidden behavior on the sphinx rendered scikit-learn.org.\n",
                            "     See: https://github.com/scikit-learn/scikit-learn/issues/21755 */\n",
                            "  display: inline-block !important;\n",
                            "  position: relative;\n",
                            "}\n",
                            "\n",
                            "#sk-container-id-7 div.sk-text-repr-fallback {\n",
                            "  display: none;\n",
                            "}\n",
                            "\n",
                            "div.sk-parallel-item,\n",
                            "div.sk-serial,\n",
                            "div.sk-item {\n",
                            "  /* draw centered vertical line to link estimators */\n",
                            "  background-image: linear-gradient(var(--sklearn-color-text-on-default-background), var(--sklearn-color-text-on-default-background));\n",
                            "  background-size: 2px 100%;\n",
                            "  background-repeat: no-repeat;\n",
                            "  background-position: center center;\n",
                            "}\n",
                            "\n",
                            "/* Parallel-specific style estimator block */\n",
                            "\n",
                            "#sk-container-id-7 div.sk-parallel-item::after {\n",
                            "  content: \"\";\n",
                            "  width: 100%;\n",
                            "  border-bottom: 2px solid var(--sklearn-color-text-on-default-background);\n",
                            "  flex-grow: 1;\n",
                            "}\n",
                            "\n",
                            "#sk-container-id-7 div.sk-parallel {\n",
                            "  display: flex;\n",
                            "  align-items: stretch;\n",
                            "  justify-content: center;\n",
                            "  background-color: var(--sklearn-color-background);\n",
                            "  position: relative;\n",
                            "}\n",
                            "\n",
                            "#sk-container-id-7 div.sk-parallel-item {\n",
                            "  display: flex;\n",
                            "  flex-direction: column;\n",
                            "}\n",
                            "\n",
                            "#sk-container-id-7 div.sk-parallel-item:first-child::after {\n",
                            "  align-self: flex-end;\n",
                            "  width: 50%;\n",
                            "}\n",
                            "\n",
                            "#sk-container-id-7 div.sk-parallel-item:last-child::after {\n",
                            "  align-self: flex-start;\n",
                            "  width: 50%;\n",
                            "}\n",
                            "\n",
                            "#sk-container-id-7 div.sk-parallel-item:only-child::after {\n",
                            "  width: 0;\n",
                            "}\n",
                            "\n",
                            "/* Serial-specific style estimator block */\n",
                            "\n",
                            "#sk-container-id-7 div.sk-serial {\n",
                            "  display: flex;\n",
                            "  flex-direction: column;\n",
                            "  align-items: center;\n",
                            "  background-color: var(--sklearn-color-background);\n",
                            "  padding-right: 1em;\n",
                            "  padding-left: 1em;\n",
                            "}\n",
                            "\n",
                            "\n",
                            "/* Toggleable style: style used for estimator/Pipeline/ColumnTransformer box that is\n",
                            "clickable and can be expanded/collapsed.\n",
                            "- Pipeline and ColumnTransformer use this feature and define the default style\n",
                            "- Estimators will overwrite some part of the style using the `sk-estimator` class\n",
                            "*/\n",
                            "\n",
                            "/* Pipeline and ColumnTransformer style (default) */\n",
                            "\n",
                            "#sk-container-id-7 div.sk-toggleable {\n",
                            "  /* Default theme specific background. It is overwritten whether we have a\n",
                            "  specific estimator or a Pipeline/ColumnTransformer */\n",
                            "  background-color: var(--sklearn-color-background);\n",
                            "}\n",
                            "\n",
                            "/* Toggleable label */\n",
                            "#sk-container-id-7 label.sk-toggleable__label {\n",
                            "  cursor: pointer;\n",
                            "  display: block;\n",
                            "  width: 100%;\n",
                            "  margin-bottom: 0;\n",
                            "  padding: 0.5em;\n",
                            "  box-sizing: border-box;\n",
                            "  text-align: center;\n",
                            "}\n",
                            "\n",
                            "#sk-container-id-7 label.sk-toggleable__label-arrow:before {\n",
                            "  /* Arrow on the left of the label */\n",
                            "  content: \"▸\";\n",
                            "  float: left;\n",
                            "  margin-right: 0.25em;\n",
                            "  color: var(--sklearn-color-icon);\n",
                            "}\n",
                            "\n",
                            "#sk-container-id-7 label.sk-toggleable__label-arrow:hover:before {\n",
                            "  color: var(--sklearn-color-text);\n",
                            "}\n",
                            "\n",
                            "/* Toggleable content - dropdown */\n",
                            "\n",
                            "#sk-container-id-7 div.sk-toggleable__content {\n",
                            "  max-height: 0;\n",
                            "  max-width: 0;\n",
                            "  overflow: hidden;\n",
                            "  text-align: left;\n",
                            "  /* unfitted */\n",
                            "  background-color: var(--sklearn-color-unfitted-level-0);\n",
                            "}\n",
                            "\n",
                            "#sk-container-id-7 div.sk-toggleable__content.fitted {\n",
                            "  /* fitted */\n",
                            "  background-color: var(--sklearn-color-fitted-level-0);\n",
                            "}\n",
                            "\n",
                            "#sk-container-id-7 div.sk-toggleable__content pre {\n",
                            "  margin: 0.2em;\n",
                            "  border-radius: 0.25em;\n",
                            "  color: var(--sklearn-color-text);\n",
                            "  /* unfitted */\n",
                            "  background-color: var(--sklearn-color-unfitted-level-0);\n",
                            "}\n",
                            "\n",
                            "#sk-container-id-7 div.sk-toggleable__content.fitted pre {\n",
                            "  /* unfitted */\n",
                            "  background-color: var(--sklearn-color-fitted-level-0);\n",
                            "}\n",
                            "\n",
                            "#sk-container-id-7 input.sk-toggleable__control:checked~div.sk-toggleable__content {\n",
                            "  /* Expand drop-down */\n",
                            "  max-height: 200px;\n",
                            "  max-width: 100%;\n",
                            "  overflow: auto;\n",
                            "}\n",
                            "\n",
                            "#sk-container-id-7 input.sk-toggleable__control:checked~label.sk-toggleable__label-arrow:before {\n",
                            "  content: \"▾\";\n",
                            "}\n",
                            "\n",
                            "/* Pipeline/ColumnTransformer-specific style */\n",
                            "\n",
                            "#sk-container-id-7 div.sk-label input.sk-toggleable__control:checked~label.sk-toggleable__label {\n",
                            "  color: var(--sklearn-color-text);\n",
                            "  background-color: var(--sklearn-color-unfitted-level-2);\n",
                            "}\n",
                            "\n",
                            "#sk-container-id-7 div.sk-label.fitted input.sk-toggleable__control:checked~label.sk-toggleable__label {\n",
                            "  background-color: var(--sklearn-color-fitted-level-2);\n",
                            "}\n",
                            "\n",
                            "/* Estimator-specific style */\n",
                            "\n",
                            "/* Colorize estimator box */\n",
                            "#sk-container-id-7 div.sk-estimator input.sk-toggleable__control:checked~label.sk-toggleable__label {\n",
                            "  /* unfitted */\n",
                            "  background-color: var(--sklearn-color-unfitted-level-2);\n",
                            "}\n",
                            "\n",
                            "#sk-container-id-7 div.sk-estimator.fitted input.sk-toggleable__control:checked~label.sk-toggleable__label {\n",
                            "  /* fitted */\n",
                            "  background-color: var(--sklearn-color-fitted-level-2);\n",
                            "}\n",
                            "\n",
                            "#sk-container-id-7 div.sk-label label.sk-toggleable__label,\n",
                            "#sk-container-id-7 div.sk-label label {\n",
                            "  /* The background is the default theme color */\n",
                            "  color: var(--sklearn-color-text-on-default-background);\n",
                            "}\n",
                            "\n",
                            "/* On hover, darken the color of the background */\n",
                            "#sk-container-id-7 div.sk-label:hover label.sk-toggleable__label {\n",
                            "  color: var(--sklearn-color-text);\n",
                            "  background-color: var(--sklearn-color-unfitted-level-2);\n",
                            "}\n",
                            "\n",
                            "/* Label box, darken color on hover, fitted */\n",
                            "#sk-container-id-7 div.sk-label.fitted:hover label.sk-toggleable__label.fitted {\n",
                            "  color: var(--sklearn-color-text);\n",
                            "  background-color: var(--sklearn-color-fitted-level-2);\n",
                            "}\n",
                            "\n",
                            "/* Estimator label */\n",
                            "\n",
                            "#sk-container-id-7 div.sk-label label {\n",
                            "  font-family: monospace;\n",
                            "  font-weight: bold;\n",
                            "  display: inline-block;\n",
                            "  line-height: 1.2em;\n",
                            "}\n",
                            "\n",
                            "#sk-container-id-7 div.sk-label-container {\n",
                            "  text-align: center;\n",
                            "}\n",
                            "\n",
                            "/* Estimator-specific */\n",
                            "#sk-container-id-7 div.sk-estimator {\n",
                            "  font-family: monospace;\n",
                            "  border: 1px dotted var(--sklearn-color-border-box);\n",
                            "  border-radius: 0.25em;\n",
                            "  box-sizing: border-box;\n",
                            "  margin-bottom: 0.5em;\n",
                            "  /* unfitted */\n",
                            "  background-color: var(--sklearn-color-unfitted-level-0);\n",
                            "}\n",
                            "\n",
                            "#sk-container-id-7 div.sk-estimator.fitted {\n",
                            "  /* fitted */\n",
                            "  background-color: var(--sklearn-color-fitted-level-0);\n",
                            "}\n",
                            "\n",
                            "/* on hover */\n",
                            "#sk-container-id-7 div.sk-estimator:hover {\n",
                            "  /* unfitted */\n",
                            "  background-color: var(--sklearn-color-unfitted-level-2);\n",
                            "}\n",
                            "\n",
                            "#sk-container-id-7 div.sk-estimator.fitted:hover {\n",
                            "  /* fitted */\n",
                            "  background-color: var(--sklearn-color-fitted-level-2);\n",
                            "}\n",
                            "\n",
                            "/* Specification for estimator info (e.g. \"i\" and \"?\") */\n",
                            "\n",
                            "/* Common style for \"i\" and \"?\" */\n",
                            "\n",
                            ".sk-estimator-doc-link,\n",
                            "a:link.sk-estimator-doc-link,\n",
                            "a:visited.sk-estimator-doc-link {\n",
                            "  float: right;\n",
                            "  font-size: smaller;\n",
                            "  line-height: 1em;\n",
                            "  font-family: monospace;\n",
                            "  background-color: var(--sklearn-color-background);\n",
                            "  border-radius: 1em;\n",
                            "  height: 1em;\n",
                            "  width: 1em;\n",
                            "  text-decoration: none !important;\n",
                            "  margin-left: 1ex;\n",
                            "  /* unfitted */\n",
                            "  border: var(--sklearn-color-unfitted-level-1) 1pt solid;\n",
                            "  color: var(--sklearn-color-unfitted-level-1);\n",
                            "}\n",
                            "\n",
                            ".sk-estimator-doc-link.fitted,\n",
                            "a:link.sk-estimator-doc-link.fitted,\n",
                            "a:visited.sk-estimator-doc-link.fitted {\n",
                            "  /* fitted */\n",
                            "  border: var(--sklearn-color-fitted-level-1) 1pt solid;\n",
                            "  color: var(--sklearn-color-fitted-level-1);\n",
                            "}\n",
                            "\n",
                            "/* On hover */\n",
                            "div.sk-estimator:hover .sk-estimator-doc-link:hover,\n",
                            ".sk-estimator-doc-link:hover,\n",
                            "div.sk-label-container:hover .sk-estimator-doc-link:hover,\n",
                            ".sk-estimator-doc-link:hover {\n",
                            "  /* unfitted */\n",
                            "  background-color: var(--sklearn-color-unfitted-level-3);\n",
                            "  color: var(--sklearn-color-background);\n",
                            "  text-decoration: none;\n",
                            "}\n",
                            "\n",
                            "div.sk-estimator.fitted:hover .sk-estimator-doc-link.fitted:hover,\n",
                            ".sk-estimator-doc-link.fitted:hover,\n",
                            "div.sk-label-container:hover .sk-estimator-doc-link.fitted:hover,\n",
                            ".sk-estimator-doc-link.fitted:hover {\n",
                            "  /* fitted */\n",
                            "  background-color: var(--sklearn-color-fitted-level-3);\n",
                            "  color: var(--sklearn-color-background);\n",
                            "  text-decoration: none;\n",
                            "}\n",
                            "\n",
                            "/* Span, style for the box shown on hovering the info icon */\n",
                            ".sk-estimator-doc-link span {\n",
                            "  display: none;\n",
                            "  z-index: 9999;\n",
                            "  position: relative;\n",
                            "  font-weight: normal;\n",
                            "  right: .2ex;\n",
                            "  padding: .5ex;\n",
                            "  margin: .5ex;\n",
                            "  width: min-content;\n",
                            "  min-width: 20ex;\n",
                            "  max-width: 50ex;\n",
                            "  color: var(--sklearn-color-text);\n",
                            "  box-shadow: 2pt 2pt 4pt #999;\n",
                            "  /* unfitted */\n",
                            "  background: var(--sklearn-color-unfitted-level-0);\n",
                            "  border: .5pt solid var(--sklearn-color-unfitted-level-3);\n",
                            "}\n",
                            "\n",
                            ".sk-estimator-doc-link.fitted span {\n",
                            "  /* fitted */\n",
                            "  background: var(--sklearn-color-fitted-level-0);\n",
                            "  border: var(--sklearn-color-fitted-level-3);\n",
                            "}\n",
                            "\n",
                            ".sk-estimator-doc-link:hover span {\n",
                            "  display: block;\n",
                            "}\n",
                            "\n",
                            "/* \"?\"-specific style due to the `<a>` HTML tag */\n",
                            "\n",
                            "#sk-container-id-7 a.estimator_doc_link {\n",
                            "  float: right;\n",
                            "  font-size: 1rem;\n",
                            "  line-height: 1em;\n",
                            "  font-family: monospace;\n",
                            "  background-color: var(--sklearn-color-background);\n",
                            "  border-radius: 1rem;\n",
                            "  height: 1rem;\n",
                            "  width: 1rem;\n",
                            "  text-decoration: none;\n",
                            "  /* unfitted */\n",
                            "  color: var(--sklearn-color-unfitted-level-1);\n",
                            "  border: var(--sklearn-color-unfitted-level-1) 1pt solid;\n",
                            "}\n",
                            "\n",
                            "#sk-container-id-7 a.estimator_doc_link.fitted {\n",
                            "  /* fitted */\n",
                            "  border: var(--sklearn-color-fitted-level-1) 1pt solid;\n",
                            "  color: var(--sklearn-color-fitted-level-1);\n",
                            "}\n",
                            "\n",
                            "/* On hover */\n",
                            "#sk-container-id-7 a.estimator_doc_link:hover {\n",
                            "  /* unfitted */\n",
                            "  background-color: var(--sklearn-color-unfitted-level-3);\n",
                            "  color: var(--sklearn-color-background);\n",
                            "  text-decoration: none;\n",
                            "}\n",
                            "\n",
                            "#sk-container-id-7 a.estimator_doc_link.fitted:hover {\n",
                            "  /* fitted */\n",
                            "  background-color: var(--sklearn-color-fitted-level-3);\n",
                            "}\n",
                            "</style><div id=\"sk-container-id-7\" class=\"sk-top-container\"><div class=\"sk-text-repr-fallback\"><pre>RandomForestClassifier(n_estimators=65, random_state=42)</pre><b>In a Jupyter environment, please rerun this cell to show the HTML representation or trust the notebook. <br />On GitHub, the HTML representation is unable to render, please try loading this page with nbviewer.org.</b></div><div class=\"sk-container\" hidden><div class=\"sk-item\"><div class=\"sk-estimator fitted sk-toggleable\"><input class=\"sk-toggleable__control sk-hidden--visually\" id=\"sk-estimator-id-7\" type=\"checkbox\" checked><label for=\"sk-estimator-id-7\" class=\"sk-toggleable__label fitted sk-toggleable__label-arrow fitted\">&nbsp;&nbsp;RandomForestClassifier<a class=\"sk-estimator-doc-link fitted\" rel=\"noreferrer\" target=\"_blank\" href=\"https://scikit-learn.org/1.5/modules/generated/sklearn.ensemble.RandomForestClassifier.html\">?<span>Documentation for RandomForestClassifier</span></a><span class=\"sk-estimator-doc-link fitted\">i<span>Fitted</span></span></label><div class=\"sk-toggleable__content fitted\"><pre>RandomForestClassifier(n_estimators=65, random_state=42)</pre></div> </div></div></div></div>"
                        ],
                        "text/plain": [
                            "RandomForestClassifier(n_estimators=65, random_state=42)"
                        ]
                    },
                    "execution_count": 43,
                    "metadata": {},
                    "output_type": "execute_result"
                }
            ],
            "source": [
                "RF_model = RandomForestClassifier(n_estimators = 65, random_state = 42)\n",
                "RF_model.fit(X_train, y_train)"
            ]
        },
        {
            "cell_type": "markdown",
            "metadata": {},
            "source": [
                "## Evaluation"
            ]
        },
        {
            "cell_type": "code",
            "execution_count": 44,
            "metadata": {},
            "outputs": [],
            "source": [
                "prediction_RF = RF_model.predict(X_test)"
            ]
        },
        {
            "cell_type": "code",
            "execution_count": 45,
            "metadata": {},
            "outputs": [
                {
                    "data": {
                        "image/png": "[encoded data removed]",
                        "text/plain": [
                            "<Figure size 300x300 with 1 Axes>"
                        ]
                    },
                    "metadata": {},
                    "output_type": "display_data"
                },
                {
                    "name": "stdout",
                    "output_type": "stream",
                    "text": [
                        "Akurasi = \"90.91%\"\n",
                        "Sensitivitas = \"89.09%\"\n",
                        "Spesifitas = \"92.51%\"\n"
                    ]
                }
            ],
            "source": [
                "cm = confusion_matrix(y_test, prediction_RF)\n",
                "fig, ax = plot_confusion_matrix(conf_mat=cm, figsize=(3, 3), cmap=plt.cm.Blues)\n",
                "plt.xlabel('Predictions', fontsize=12)\n",
                "plt.ylabel('Actuals', fontsize=12)\n",
                "plt.title('Confusion Matrix', fontsize=14)\n",
                "plt.show()\n",
                "TN = cm[0][0]\n",
                "TP = cm[1][1]\n",
                "FN = cm[1][0]\n",
                "FP = cm[0][1]\n",
                "\n",
                "print('Akurasi = \"{}%\"'.format(round((TP + TN) /\n",
                "(TP + TN + FN + FP)*100,2)))\n",
                "print('Sensitivitas = \"{}%\"'.format(round((TP) /\n",
                "(TP + FN)*100,2)))\n",
                "print('Spesifitas = \"{}%\"'.format(round((TN) /\n",
                "(TN + FP)*100,2)))"
            ]
        }
    ],
    "metadata": {
        "kernelspec": {
            "display_name": "bike",
            "language": "python",
            "name": "python3"
        },
        "language_info": {
            "codemirror_mode": {
                "name": "ipython",
                "version": 3
            },
            "file_extension": ".py",
            "mimetype": "text/x-python",
            "name": "python",
            "nbconvert_exporter": "python",
            "pygments_lexer": "ipython3",
            "version": "3.9.2"
        },
        "orig_nbformat": 4
    },
    "nbformat": 4,
    "nbformat_minor": 2
}
